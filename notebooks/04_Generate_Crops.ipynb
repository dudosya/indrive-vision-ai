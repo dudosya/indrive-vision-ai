{
  "nbformat": 4,
  "nbformat_minor": 0,
  "metadata": {
    "colab": {
      "provenance": []
    },
    "kernelspec": {
      "name": "python3",
      "display_name": "Python 3"
    },
    "language_info": {
      "name": "python"
    },
    "widgets": {
      "application/vnd.jupyter.widget-state+json": {
        "b52d2d2699fb4b23a42ec76e1a0a0bc3": {
          "model_module": "@jupyter-widgets/controls",
          "model_name": "HBoxModel",
          "model_module_version": "1.5.0",
          "state": {
            "_dom_classes": [],
            "_model_module": "@jupyter-widgets/controls",
            "_model_module_version": "1.5.0",
            "_model_name": "HBoxModel",
            "_view_count": null,
            "_view_module": "@jupyter-widgets/controls",
            "_view_module_version": "1.5.0",
            "_view_name": "HBoxView",
            "box_style": "",
            "children": [
              "IPY_MODEL_aec2daf0ca9e422bac75ec22b261df09",
              "IPY_MODEL_8106a87bfd4c47d792e7d4564e3e043e",
              "IPY_MODEL_23cc56b0a0ab498abba3f9bce98d6f9b"
            ],
            "layout": "IPY_MODEL_eeeb289ff47545f7970ae2a508b50e87"
          }
        },
        "aec2daf0ca9e422bac75ec22b261df09": {
          "model_module": "@jupyter-widgets/controls",
          "model_name": "HTMLModel",
          "model_module_version": "1.5.0",
          "state": {
            "_dom_classes": [],
            "_model_module": "@jupyter-widgets/controls",
            "_model_module_version": "1.5.0",
            "_model_name": "HTMLModel",
            "_view_count": null,
            "_view_module": "@jupyter-widgets/controls",
            "_view_module_version": "1.5.0",
            "_view_name": "HTMLView",
            "description": "",
            "description_tooltip": null,
            "layout": "IPY_MODEL_ffd844afc2c44f6c98bd23091da2a67a",
            "placeholder": "​",
            "style": "IPY_MODEL_b6a8dea2f37c45a4bf7c24d8c86b5358",
            "value": "Processing images: 100%"
          }
        },
        "8106a87bfd4c47d792e7d4564e3e043e": {
          "model_module": "@jupyter-widgets/controls",
          "model_name": "FloatProgressModel",
          "model_module_version": "1.5.0",
          "state": {
            "_dom_classes": [],
            "_model_module": "@jupyter-widgets/controls",
            "_model_module_version": "1.5.0",
            "_model_name": "FloatProgressModel",
            "_view_count": null,
            "_view_module": "@jupyter-widgets/controls",
            "_view_module_version": "1.5.0",
            "_view_name": "ProgressView",
            "bar_style": "success",
            "description": "",
            "description_tooltip": null,
            "layout": "IPY_MODEL_2009f72dd472465da081ce5143670182",
            "max": 481,
            "min": 0,
            "orientation": "horizontal",
            "style": "IPY_MODEL_50d53eb419fd43c2b7828f575677eadd",
            "value": 481
          }
        },
        "23cc56b0a0ab498abba3f9bce98d6f9b": {
          "model_module": "@jupyter-widgets/controls",
          "model_name": "HTMLModel",
          "model_module_version": "1.5.0",
          "state": {
            "_dom_classes": [],
            "_model_module": "@jupyter-widgets/controls",
            "_model_module_version": "1.5.0",
            "_model_name": "HTMLModel",
            "_view_count": null,
            "_view_module": "@jupyter-widgets/controls",
            "_view_module_version": "1.5.0",
            "_view_name": "HTMLView",
            "description": "",
            "description_tooltip": null,
            "layout": "IPY_MODEL_3d759d35fe1043babdde011ca78229bc",
            "placeholder": "​",
            "style": "IPY_MODEL_5c0089f69dcd41cda4305b82eff9336f",
            "value": " 481/481 [00:07&lt;00:00, 66.92it/s]"
          }
        },
        "eeeb289ff47545f7970ae2a508b50e87": {
          "model_module": "@jupyter-widgets/base",
          "model_name": "LayoutModel",
          "model_module_version": "1.2.0",
          "state": {
            "_model_module": "@jupyter-widgets/base",
            "_model_module_version": "1.2.0",
            "_model_name": "LayoutModel",
            "_view_count": null,
            "_view_module": "@jupyter-widgets/base",
            "_view_module_version": "1.2.0",
            "_view_name": "LayoutView",
            "align_content": null,
            "align_items": null,
            "align_self": null,
            "border": null,
            "bottom": null,
            "display": null,
            "flex": null,
            "flex_flow": null,
            "grid_area": null,
            "grid_auto_columns": null,
            "grid_auto_flow": null,
            "grid_auto_rows": null,
            "grid_column": null,
            "grid_gap": null,
            "grid_row": null,
            "grid_template_areas": null,
            "grid_template_columns": null,
            "grid_template_rows": null,
            "height": null,
            "justify_content": null,
            "justify_items": null,
            "left": null,
            "margin": null,
            "max_height": null,
            "max_width": null,
            "min_height": null,
            "min_width": null,
            "object_fit": null,
            "object_position": null,
            "order": null,
            "overflow": null,
            "overflow_x": null,
            "overflow_y": null,
            "padding": null,
            "right": null,
            "top": null,
            "visibility": null,
            "width": null
          }
        },
        "ffd844afc2c44f6c98bd23091da2a67a": {
          "model_module": "@jupyter-widgets/base",
          "model_name": "LayoutModel",
          "model_module_version": "1.2.0",
          "state": {
            "_model_module": "@jupyter-widgets/base",
            "_model_module_version": "1.2.0",
            "_model_name": "LayoutModel",
            "_view_count": null,
            "_view_module": "@jupyter-widgets/base",
            "_view_module_version": "1.2.0",
            "_view_name": "LayoutView",
            "align_content": null,
            "align_items": null,
            "align_self": null,
            "border": null,
            "bottom": null,
            "display": null,
            "flex": null,
            "flex_flow": null,
            "grid_area": null,
            "grid_auto_columns": null,
            "grid_auto_flow": null,
            "grid_auto_rows": null,
            "grid_column": null,
            "grid_gap": null,
            "grid_row": null,
            "grid_template_areas": null,
            "grid_template_columns": null,
            "grid_template_rows": null,
            "height": null,
            "justify_content": null,
            "justify_items": null,
            "left": null,
            "margin": null,
            "max_height": null,
            "max_width": null,
            "min_height": null,
            "min_width": null,
            "object_fit": null,
            "object_position": null,
            "order": null,
            "overflow": null,
            "overflow_x": null,
            "overflow_y": null,
            "padding": null,
            "right": null,
            "top": null,
            "visibility": null,
            "width": null
          }
        },
        "b6a8dea2f37c45a4bf7c24d8c86b5358": {
          "model_module": "@jupyter-widgets/controls",
          "model_name": "DescriptionStyleModel",
          "model_module_version": "1.5.0",
          "state": {
            "_model_module": "@jupyter-widgets/controls",
            "_model_module_version": "1.5.0",
            "_model_name": "DescriptionStyleModel",
            "_view_count": null,
            "_view_module": "@jupyter-widgets/base",
            "_view_module_version": "1.2.0",
            "_view_name": "StyleView",
            "description_width": ""
          }
        },
        "2009f72dd472465da081ce5143670182": {
          "model_module": "@jupyter-widgets/base",
          "model_name": "LayoutModel",
          "model_module_version": "1.2.0",
          "state": {
            "_model_module": "@jupyter-widgets/base",
            "_model_module_version": "1.2.0",
            "_model_name": "LayoutModel",
            "_view_count": null,
            "_view_module": "@jupyter-widgets/base",
            "_view_module_version": "1.2.0",
            "_view_name": "LayoutView",
            "align_content": null,
            "align_items": null,
            "align_self": null,
            "border": null,
            "bottom": null,
            "display": null,
            "flex": null,
            "flex_flow": null,
            "grid_area": null,
            "grid_auto_columns": null,
            "grid_auto_flow": null,
            "grid_auto_rows": null,
            "grid_column": null,
            "grid_gap": null,
            "grid_row": null,
            "grid_template_areas": null,
            "grid_template_columns": null,
            "grid_template_rows": null,
            "height": null,
            "justify_content": null,
            "justify_items": null,
            "left": null,
            "margin": null,
            "max_height": null,
            "max_width": null,
            "min_height": null,
            "min_width": null,
            "object_fit": null,
            "object_position": null,
            "order": null,
            "overflow": null,
            "overflow_x": null,
            "overflow_y": null,
            "padding": null,
            "right": null,
            "top": null,
            "visibility": null,
            "width": null
          }
        },
        "50d53eb419fd43c2b7828f575677eadd": {
          "model_module": "@jupyter-widgets/controls",
          "model_name": "ProgressStyleModel",
          "model_module_version": "1.5.0",
          "state": {
            "_model_module": "@jupyter-widgets/controls",
            "_model_module_version": "1.5.0",
            "_model_name": "ProgressStyleModel",
            "_view_count": null,
            "_view_module": "@jupyter-widgets/base",
            "_view_module_version": "1.2.0",
            "_view_name": "StyleView",
            "bar_color": null,
            "description_width": ""
          }
        },
        "3d759d35fe1043babdde011ca78229bc": {
          "model_module": "@jupyter-widgets/base",
          "model_name": "LayoutModel",
          "model_module_version": "1.2.0",
          "state": {
            "_model_module": "@jupyter-widgets/base",
            "_model_module_version": "1.2.0",
            "_model_name": "LayoutModel",
            "_view_count": null,
            "_view_module": "@jupyter-widgets/base",
            "_view_module_version": "1.2.0",
            "_view_name": "LayoutView",
            "align_content": null,
            "align_items": null,
            "align_self": null,
            "border": null,
            "bottom": null,
            "display": null,
            "flex": null,
            "flex_flow": null,
            "grid_area": null,
            "grid_auto_columns": null,
            "grid_auto_flow": null,
            "grid_auto_rows": null,
            "grid_column": null,
            "grid_gap": null,
            "grid_row": null,
            "grid_template_areas": null,
            "grid_template_columns": null,
            "grid_template_rows": null,
            "height": null,
            "justify_content": null,
            "justify_items": null,
            "left": null,
            "margin": null,
            "max_height": null,
            "max_width": null,
            "min_height": null,
            "min_width": null,
            "object_fit": null,
            "object_position": null,
            "order": null,
            "overflow": null,
            "overflow_x": null,
            "overflow_y": null,
            "padding": null,
            "right": null,
            "top": null,
            "visibility": null,
            "width": null
          }
        },
        "5c0089f69dcd41cda4305b82eff9336f": {
          "model_module": "@jupyter-widgets/controls",
          "model_name": "DescriptionStyleModel",
          "model_module_version": "1.5.0",
          "state": {
            "_model_module": "@jupyter-widgets/controls",
            "_model_module_version": "1.5.0",
            "_model_name": "DescriptionStyleModel",
            "_view_count": null,
            "_view_module": "@jupyter-widgets/base",
            "_view_module_version": "1.2.0",
            "_view_name": "StyleView",
            "description_width": ""
          }
        }
      }
    }
  },
  "cells": [
    {
      "cell_type": "code",
      "execution_count": null,
      "metadata": {
        "colab": {
          "base_uri": "https://localhost:8080/"
        },
        "id": "s8YEIdp07Zjp",
        "outputId": "ebbfcd74-8efc-45a2-c6b4-d45b084d9056"
      },
      "outputs": [
        {
          "output_type": "stream",
          "name": "stdout",
          "text": [
            "Drive already mounted at /content/drive; to attempt to forcibly remount, call drive.mount(\"/content/drive\", force_remount=True).\n",
            "✅ Setup complete!\n",
            "Will read clean cars from: /content/drive/MyDrive/inDrive_hackathon/data/raw/Car_model_detection_subset.zip\n",
            "Will save new crops to: /content/drive/MyDrive/inDrive_hackathon/data/processed/clean_crops\n",
            "\n",
            "✅ Successfully located raw zip file.\n"
          ]
        }
      ],
      "source": [
        "\n",
        "import os\n",
        "import shutil\n",
        "import glob\n",
        "from google.colab import drive\n",
        "from PIL import Image\n",
        "import random\n",
        "from tqdm.notebook import tqdm\n",
        "\n",
        "drive.mount('/content/drive')\n",
        "BASE_PATH = '/content/drive/MyDrive/inDrive_hackathon'\n",
        "CLEAN_CARS_ZIP_PATH = os.path.join(BASE_PATH, 'data', 'raw', 'Car_model_detection_subset.zip')\n",
        "TEMP_DIR = '/content/temp_clean_cars_for_cropping'\n",
        "LOCAL_CROPS_DIR = '/content/local_crops'\n",
        "OUTPUT_CROPS_DIR_DRIVE = os.path.join(BASE_PATH, 'data', 'processed', 'clean_crops')\n",
        "\n",
        "\n",
        "if os.path.exists(TEMP_DIR): shutil.rmtree(TEMP_DIR)\n",
        "os.makedirs(TEMP_DIR)\n",
        "\n",
        "if os.path.exists(LOCAL_CROPS_DIR): shutil.rmtree(LOCAL_CROPS_DIR)\n",
        "os.makedirs(LOCAL_CROPS_DIR)\n",
        "\n",
        "os.makedirs(OUTPUT_CROPS_DIR_DRIVE, exist_ok=True)\n",
        "\n",
        "print(\"✅ Setup complete!\")\n",
        "print(f\"Will read clean cars from: {CLEAN_CARS_ZIP_PATH}\")\n",
        "print(f\"Will save new crops to: {OUTPUT_CROPS_DIR}\")\n",
        "\n",
        "if not os.path.exists(CLEAN_CARS_ZIP_PATH):\n",
        "    print(f\"\\n❌ ERROR: Raw zip file not found! Please check the path and filename.\")\n",
        "    raise FileNotFoundError\n",
        "else:\n",
        "    print(f\"\\n✅ Successfully located raw zip file.\")"
      ]
    },
    {
      "cell_type": "code",
      "source": [
        "\n",
        "\n",
        "print(f\"Unzipping {os.path.basename(CLEAN_CARS_ZIP_PATH)}...\")\n",
        "shutil.unpack_archive(CLEAN_CARS_ZIP_PATH, TEMP_DIR)\n",
        "print(\"Unzipping complete.\")\n",
        "\n",
        "train_images = glob.glob(os.path.join(TEMP_DIR, 'train', '**', '*.*'), recursive=True)\n",
        "valid_images = glob.glob(os.path.join(TEMP_DIR, 'valid', '**', '*.*'), recursive=True)\n",
        "all_source_images = train_images + valid_images\n",
        "\n",
        "all_source_images = [f for f in all_source_images if f.lower().endswith(('.png', '.jpg', '.jpeg'))]\n",
        "\n",
        "print(f\"\\nFound {len(all_source_images)} source images to generate crops from.\")"
      ],
      "metadata": {
        "colab": {
          "base_uri": "https://localhost:8080/"
        },
        "id": "svrWmyJ27qAI",
        "outputId": "298d5bb9-4979-4568-95fc-66ae844bb62e"
      },
      "execution_count": null,
      "outputs": [
        {
          "output_type": "stream",
          "name": "stdout",
          "text": [
            "Unzipping Car_model_detection_subset.zip...\n",
            "Unzipping complete.\n",
            "\n",
            "Found 481 source images to generate crops from.\n"
          ]
        }
      ]
    },
    {
      "cell_type": "code",
      "source": [
        "\n",
        "CROP_WIDTH = 640\n",
        "CROP_HEIGHT = 640\n",
        "NUM_CROPS_PER_IMAGE = 4\n",
        "\n",
        "print(f\"Starting crop generation with corrected logic...\")\n",
        "print(f\"Generating up to {NUM_CROPS_PER_IMAGE} crops of size {CROP_WIDTH}x{CROP_HEIGHT} from each image.\")\n",
        "\n",
        "crop_counter = 0\n",
        "for img_path in tqdm(all_source_images, desc=\"Processing images\"):\n",
        "    try:\n",
        "        with Image.open(img_path).convert('RGB') as img:\n",
        "            img_width, img_height = img.size\n",
        "\n",
        "            if img_width < CROP_WIDTH or img_height < CROP_HEIGHT:\n",
        "                resized_img = img.resize((CROP_WIDTH, CROP_HEIGHT))\n",
        "                save_path = os.path.join(LOCAL_CROPS_DIR, f\"clean_crop_{crop_counter:05d}.jpg\")\n",
        "                resized_img.save(save_path, 'JPEG', quality=95)\n",
        "                crop_counter += 1\n",
        "                continue\n",
        "\n",
        "            for _ in range(NUM_CROPS_PER_IMAGE):\n",
        "                max_x = img_width - CROP_WIDTH\n",
        "                max_y = img_height - CROP_HEIGHT\n",
        "\n",
        "                random_x = random.randint(0, max_x)\n",
        "                random_y = random.randint(0, max_y)\n",
        "\n",
        "                box = (random_x, random_y, random_x + CROP_WIDTH, random_y + CROP_HEIGHT)\n",
        "                crop = img.crop(box)\n",
        "\n",
        "                save_path = os.path.join(LOCAL_CROPS_DIR, f\"clean_crop_{crop_counter:05d}.jpg\")\n",
        "                crop.save(save_path, 'JPEG', quality=95)\n",
        "                crop_counter += 1\n",
        "\n",
        "    except Exception as e:\n",
        "        print(f\"Warning: Could not process image {img_path}. Error: {e}\")\n",
        "\n",
        "\n",
        "print(f\"\\n🎉 Crop generation complete!\")\n",
        "print(f\"Successfully generated and saved {crop_counter} clean crop images to the LOCAL directory.\")"
      ],
      "metadata": {
        "colab": {
          "base_uri": "https://localhost:8080/",
          "height": 136,
          "referenced_widgets": [
            "b52d2d2699fb4b23a42ec76e1a0a0bc3",
            "aec2daf0ca9e422bac75ec22b261df09",
            "8106a87bfd4c47d792e7d4564e3e043e",
            "23cc56b0a0ab498abba3f9bce98d6f9b",
            "eeeb289ff47545f7970ae2a508b50e87",
            "ffd844afc2c44f6c98bd23091da2a67a",
            "b6a8dea2f37c45a4bf7c24d8c86b5358",
            "2009f72dd472465da081ce5143670182",
            "50d53eb419fd43c2b7828f575677eadd",
            "3d759d35fe1043babdde011ca78229bc",
            "5c0089f69dcd41cda4305b82eff9336f"
          ]
        },
        "id": "WyhefsQ97rfI",
        "outputId": "63cdb881-0088-4271-fd17-d04f2c0f6ab3"
      },
      "execution_count": null,
      "outputs": [
        {
          "output_type": "stream",
          "name": "stdout",
          "text": [
            "Starting crop generation with corrected logic...\n",
            "Generating up to 4 crops of size 640x640 from each image.\n"
          ]
        },
        {
          "output_type": "display_data",
          "data": {
            "text/plain": [
              "Processing images:   0%|          | 0/481 [00:00<?, ?it/s]"
            ],
            "application/vnd.jupyter.widget-view+json": {
              "version_major": 2,
              "version_minor": 0,
              "model_id": "b52d2d2699fb4b23a42ec76e1a0a0bc3"
            }
          },
          "metadata": {}
        },
        {
          "output_type": "stream",
          "name": "stdout",
          "text": [
            "\n",
            "🎉 Crop generation complete!\n",
            "Successfully generated and saved 742 clean crop images to the LOCAL directory.\n"
          ]
        }
      ]
    },
    {
      "cell_type": "code",
      "source": [
        "\n",
        "\n",
        "print(f\"Copying {len(os.listdir(LOCAL_CROPS_DIR))} files from local disk to Google Drive...\")\n",
        "print(\"This may take a few minutes...\")\n",
        "\n",
        "!cp -r {LOCAL_CROPS_DIR}/. {OUTPUT_CROPS_DIR_DRIVE}\n",
        "\n",
        "print(\"\\n✅ Copying complete!\")\n",
        "print(\"Your clean crops are now permanently saved in your Google Drive.\")"
      ],
      "metadata": {
        "colab": {
          "base_uri": "https://localhost:8080/"
        },
        "id": "3FrA-2pM-9TG",
        "outputId": "a08cff8f-7530-4954-ba52-46bbecae591e"
      },
      "execution_count": null,
      "outputs": [
        {
          "output_type": "stream",
          "name": "stdout",
          "text": [
            "Copying 742 files from local disk to Google Drive...\n",
            "This may take a few minutes...\n",
            "\n",
            "✅ Copying complete!\n",
            "Your clean crops are now permanently saved in your Google Drive.\n"
          ]
        }
      ]
    },
    {
      "cell_type": "code",
      "source": [],
      "metadata": {
        "id": "Pyyf6Rsj8gvh"
      },
      "execution_count": null,
      "outputs": []
    },
    {
      "cell_type": "code",
      "source": [
        "\n",
        "print(\"Copying clean crops into the main damage dataset...\")\n",
        "!cp /content/drive/MyDrive/inDrive_hackathon/data/processed/clean_crops/*.jpg /content/drive/MyDrive/inDrive_hackathon/data/processed/damage_dataset_yolo/images/\n",
        "print(\"Copying complete.\")\n",
        "\n",
        "\n",
        "print(\"\\nVerifying the total number of images in the dataset:\")\n",
        "!ls -1 /content/drive/MyDrive/inDrive_hackathon/data/processed/damage_dataset_yolo/images/ | wc -l"
      ],
      "metadata": {
        "colab": {
          "base_uri": "https://localhost:8080/"
        },
        "id": "LcSpTzib8hq0",
        "outputId": "2463e7c0-f710-4ec4-ed03-7874836d4b23"
      },
      "execution_count": null,
      "outputs": [
        {
          "output_type": "stream",
          "name": "stdout",
          "text": [
            "Copying clean crops into the main damage dataset...\n",
            "Copying complete.\n",
            "\n",
            "Verifying the total number of images in the dataset:\n",
            "3435\n"
          ]
        }
      ]
    },
    {
      "cell_type": "code",
      "source": [],
      "metadata": {
        "id": "48qCXcsuBa57"
      },
      "execution_count": null,
      "outputs": []
    }
  ]
}